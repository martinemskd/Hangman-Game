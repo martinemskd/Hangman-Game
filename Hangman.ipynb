{
 "cells": [
  {
   "cell_type": "code",
   "execution_count": 15,
   "metadata": {},
   "outputs": [
    {
     "name": "stdout",
     "output_type": "stream",
     "text": [
      "Random word with length 8: otocysts\n"
     ]
    }
   ],
   "source": [
    "#This part of the code get the list of worlds from the TXT file and only select the world with 6 or more characters\n",
    "with open('words_copy.txt', 'r') as word_file:\n",
    "\n",
    "    lines = word_file.read().splitlines()\n",
    "\n",
    "    word_list =[word for word in lines if len(word) >= 6]\n",
    "\n",
    "#This part sort the words by length in a dictionnary\n",
    "word_list_len = {}\n",
    "for word in word_list:\n",
    "    length = len(word)\n",
    "    if length not in word_list_len:\n",
    "        word_list_len[length]= []\n",
    "    word_list_len[length].append(word)\n",
    "\n",
    "#Select a random word with a length that is specified by the player\n",
    "import random\n",
    "\n",
    "desired_length = int(input('Give the length of the word:'))\n",
    "\n",
    "if desired_length in word_list_len:\n",
    "    word_to_guess = random.choice(word_list_len[desired_length])\n",
    "else: \n",
    "    print(f\"No words find with the length {desired_length}\")\n",
    "\n",
    "\n",
    "\n",
    "\n"
   ]
  },
  {
   "cell_type": "code",
   "execution_count": null,
   "metadata": {},
   "outputs": [],
   "source": []
  }
 ],
 "metadata": {
  "kernelspec": {
   "display_name": "Python 3",
   "language": "python",
   "name": "python3"
  },
  "language_info": {
   "codemirror_mode": {
    "name": "ipython",
    "version": 3
   },
   "file_extension": ".py",
   "mimetype": "text/x-python",
   "name": "python",
   "nbconvert_exporter": "python",
   "pygments_lexer": "ipython3",
   "version": "3.9.6"
  }
 },
 "nbformat": 4,
 "nbformat_minor": 2
}
